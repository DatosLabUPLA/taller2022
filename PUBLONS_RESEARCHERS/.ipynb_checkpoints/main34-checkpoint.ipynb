{
 "cells": [
  {
   "cell_type": "code",
   "execution_count": 8,
   "id": "1a3eb541",
   "metadata": {},
   "outputs": [
    {
     "ename": "TimeoutException",
     "evalue": "Message: \n",
     "output_type": "error",
     "traceback": [
      "\u001b[1;31m---------------------------------------------------------------------------\u001b[0m",
      "\u001b[1;31mTimeoutException\u001b[0m                          Traceback (most recent call last)",
      "\u001b[1;32m~\\AppData\\Local\\Temp/ipykernel_12096/773187965.py\u001b[0m in \u001b[0;36m<module>\u001b[1;34m\u001b[0m\n\u001b[0;32m     21\u001b[0m \u001b[1;31m#df = wait.until(EC.element_to_be_clickable(a))\u001b[0m\u001b[1;33m\u001b[0m\u001b[1;33m\u001b[0m\u001b[0m\n\u001b[0;32m     22\u001b[0m     \u001b[1;31m#nombre_autores = WebDriverWait(driver, 20).until(EC.visibility_of_all_elements_located((By.XPATH, \"/html/body/div[1]/div/div[4]/div[2]\")))\u001b[0m\u001b[1;33m\u001b[0m\u001b[1;33m\u001b[0m\u001b[0m\n\u001b[1;32m---> 23\u001b[1;33m \u001b[0midd\u001b[0m\u001b[1;33m=\u001b[0m\u001b[0mWebDriverWait\u001b[0m\u001b[1;33m(\u001b[0m\u001b[0mdriver\u001b[0m\u001b[1;33m,\u001b[0m \u001b[1;36m20\u001b[0m\u001b[1;33m)\u001b[0m\u001b[1;33m.\u001b[0m\u001b[0muntil\u001b[0m\u001b[1;33m(\u001b[0m\u001b[0mEC\u001b[0m\u001b[1;33m.\u001b[0m\u001b[0melement_to_be_clickable\u001b[0m\u001b[1;33m(\u001b[0m\u001b[1;33m(\u001b[0m\u001b[0mBy\u001b[0m\u001b[1;33m.\u001b[0m\u001b[0mCSS_SELECTOR\u001b[0m\u001b[1;33m,\u001b[0m\u001b[1;34m'.numeric   researcher rank'\u001b[0m\u001b[1;33m)\u001b[0m\u001b[1;33m)\u001b[0m\u001b[1;33m)\u001b[0m\u001b[1;33m\u001b[0m\u001b[1;33m\u001b[0m\u001b[0m\n\u001b[0m\u001b[0;32m     24\u001b[0m \u001b[0minvestigadores\u001b[0m\u001b[1;33m=\u001b[0m\u001b[0mWebDriverWait\u001b[0m\u001b[1;33m(\u001b[0m\u001b[0mdriver\u001b[0m\u001b[1;33m,\u001b[0m \u001b[1;36m20\u001b[0m\u001b[1;33m)\u001b[0m\u001b[1;33m.\u001b[0m\u001b[0muntil\u001b[0m\u001b[1;33m(\u001b[0m\u001b[0mEC\u001b[0m\u001b[1;33m.\u001b[0m\u001b[0melement_to_be_clickable\u001b[0m\u001b[1;33m(\u001b[0m\u001b[1;33m(\u001b[0m\u001b[0mBy\u001b[0m\u001b[1;33m.\u001b[0m\u001b[0mCSS_SELECTOR\u001b[0m\u001b[1;33m,\u001b[0m\u001b[1;34m'.researcher-browse-cell-name'\u001b[0m\u001b[1;33m)\u001b[0m\u001b[1;33m)\u001b[0m\u001b[1;33m)\u001b[0m\u001b[1;33m\u001b[0m\u001b[1;33m\u001b[0m\u001b[0m\n\u001b[0;32m     25\u001b[0m \u001b[0mpublicaciones\u001b[0m\u001b[1;33m=\u001b[0m \u001b[0mWebDriverWait\u001b[0m\u001b[1;33m(\u001b[0m\u001b[0mdriver\u001b[0m\u001b[1;33m,\u001b[0m \u001b[1;36m20\u001b[0m\u001b[1;33m)\u001b[0m\u001b[1;33m.\u001b[0m\u001b[0muntil\u001b[0m\u001b[1;33m(\u001b[0m\u001b[0mEC\u001b[0m\u001b[1;33m.\u001b[0m\u001b[0melement_to_be_clickable\u001b[0m\u001b[1;33m(\u001b[0m\u001b[1;33m(\u001b[0m\u001b[0mBy\u001b[0m\u001b[1;33m.\u001b[0m\u001b[0mCSS_SELECTOR\u001b[0m\u001b[1;33m,\u001b[0m\u001b[1;34m'.sortable numeric  researcher stat hidden-xs publicationTooltip'\u001b[0m\u001b[1;33m)\u001b[0m\u001b[1;33m)\u001b[0m\u001b[1;33m)\u001b[0m\u001b[1;33m\u001b[0m\u001b[1;33m\u001b[0m\u001b[0m\n",
      "\u001b[1;32m~\\anaconda3\\lib\\site-packages\\selenium\\webdriver\\support\\wait.py\u001b[0m in \u001b[0;36muntil\u001b[1;34m(self, method, message)\u001b[0m\n\u001b[0;32m     78\u001b[0m             \u001b[1;32mif\u001b[0m \u001b[0mtime\u001b[0m\u001b[1;33m.\u001b[0m\u001b[0mtime\u001b[0m\u001b[1;33m(\u001b[0m\u001b[1;33m)\u001b[0m \u001b[1;33m>\u001b[0m \u001b[0mend_time\u001b[0m\u001b[1;33m:\u001b[0m\u001b[1;33m\u001b[0m\u001b[1;33m\u001b[0m\u001b[0m\n\u001b[0;32m     79\u001b[0m                 \u001b[1;32mbreak\u001b[0m\u001b[1;33m\u001b[0m\u001b[1;33m\u001b[0m\u001b[0m\n\u001b[1;32m---> 80\u001b[1;33m         \u001b[1;32mraise\u001b[0m \u001b[0mTimeoutException\u001b[0m\u001b[1;33m(\u001b[0m\u001b[0mmessage\u001b[0m\u001b[1;33m,\u001b[0m \u001b[0mscreen\u001b[0m\u001b[1;33m,\u001b[0m \u001b[0mstacktrace\u001b[0m\u001b[1;33m)\u001b[0m\u001b[1;33m\u001b[0m\u001b[1;33m\u001b[0m\u001b[0m\n\u001b[0m\u001b[0;32m     81\u001b[0m \u001b[1;33m\u001b[0m\u001b[0m\n\u001b[0;32m     82\u001b[0m     \u001b[1;32mdef\u001b[0m \u001b[0muntil_not\u001b[0m\u001b[1;33m(\u001b[0m\u001b[0mself\u001b[0m\u001b[1;33m,\u001b[0m \u001b[0mmethod\u001b[0m\u001b[1;33m,\u001b[0m \u001b[0mmessage\u001b[0m\u001b[1;33m=\u001b[0m\u001b[1;34m''\u001b[0m\u001b[1;33m)\u001b[0m\u001b[1;33m:\u001b[0m\u001b[1;33m\u001b[0m\u001b[1;33m\u001b[0m\u001b[0m\n",
      "\u001b[1;31mTimeoutException\u001b[0m: Message: \n"
     ]
    }
   ],
   "source": [
    "from selenium import webdriver\n",
    "from selenium.webdriver.common.keys import Keys\n",
    "from selenium.webdriver.common.by import By\n",
    "from selenium.webdriver.support.ui import WebDriverWait\n",
    "import pandas as pd\n",
    "import time\n",
    "from selenium.webdriver.common.by import By\n",
    "from selenium.webdriver.support import expected_conditions as EC\n",
    "from collections import defaultdict, deque\n",
    "\n",
    "driver = webdriver.Chrome('C:\\Program Files (x86)\\chromedriver.exe')\n",
    "\n",
    "driver.get('https://publons.com/researcher/?country=123&order_by=name')\n",
    "\n",
    "#lista_autores=[]\n",
    "\n",
    "#while len(lista_autores) < 250:\n",
    "\n",
    "#a = (By.CSS_SELECTOR, '.table-container')\n",
    "#wait = WebDriverWait(driver,30)\n",
    "#df = wait.until(EC.element_to_be_clickable(a))\n",
    "    #nombre_autores = WebDriverWait(driver, 20).until(EC.visibility_of_all_elements_located((By.XPATH, \"/html/body/div[1]/div/div[4]/div[2]\")))\n",
    "    idd=WebDriverWait(driver, 20).until(EC.element_to_be_clickable((By.CSS_SELECTOR,'.numeric   researcher rank')))\n",
    "    investigadores=WebDriverWait(driver, 20).until(EC.element_to_be_clickable((By.CSS_SELECTOR,'.researcher-browse-cell-name')))\n",
    "    publicaciones= WebDriverWait(driver, 20).until(EC.element_to_be_clickable((By.CSS_SELECTOR,'.sortable numeric  researcher stat hidden-xs publicationTooltip')))\n",
    "    coments_verif= WebDriverWait(driver, 20).until(EC.element_to_be_clickable((By.CSS_SELECTOR,'.sortable numeric  researcher stat hidden-xs reviewTooltip\"')))\n",
    "    registr_editor_verif= WebDriverWait(driver, 20).until(EC.element_to_be_clickable((By.CSS_SELECTOR,'.sortable numeric  researcher editor-records hidden-xs editorTooltip')))\n",
    "   \n",
    "\n",
    "    driver.find_element_by_css_selector(\"span\");\n",
    "    driver.execute_script(\"window.scrollTo(0, document.body.scrollHeight)\")\n",
    "\n",
    "#user_list = list(zip(idd,investigadores,publicaciones,coments_verif,registr_editor_verif))\n",
    "\n",
    "df = pd.DataFrame(lista_autores,columns=['idd'])\n",
    "#df = pd.DataFrame(i.text,columns=['id'])\n",
    "df.to_csv(\"lista_autores_251.csv\")\n",
    "\n",
    "#for na in element:        \n",
    "    #id= na.find_element_by_xpath('//*[@id=\"browse\"]/div[2]/div/div[3]/div[1]/div[1]/span').text\n",
    "    #investigadores= na.find_element_by_xpath('//*[@id=\"browse\"]/div[2]/div/div[3]/div[1]/a[1]/div[1]').text\n",
    "    #publicaciones= na.find_element_by_xpath('//*[@id=\"browse\"]/div[2]/div/div[3]/div[1]/div[2]/span').text\n",
    "    #coments_verif= na.find_element_by_xpath('//*[@id=\"browse\"]/div[2]/div/div[3]/div[1]/div[3]/span').text\n",
    "    #registr_editor_verif= na.find_element_by_xpath('//*[@id=\"browse\"]/div[2]/div/div[3]/div[1]/div[4]/span').text   \n",
    "\n",
    "#print(id)\n",
    "#print(investigadores)\n",
    "#print(publicaciones)\n",
    "#print(coments_verif)\n",
    "#print(registr_editor_verif)\n",
    "\n",
    "\n",
    "\n",
    "import shutil\n",
    "source = r'D:\\TI2022\\github\\taller2022\\PUBLONS_RESEARCHERS\\lista_autores_251.csv'\n",
    "destination = r'D:\\TI2022\\github\\taller2022\\PUBLONS_RESEARCHERS\\DATA\\lista_autores_251.csv'\n",
    "\n",
    "shutil.move(source,destination)\n",
    "    \n",
    "time.sleep(5)\n",
    "\n",
    "driver.quit();\n"
   ]
  },
  {
   "cell_type": "code",
   "execution_count": null,
   "id": "a25d6020",
   "metadata": {},
   "outputs": [],
   "source": [
    "submenu = WebDriverWait(driver, 5).until(EC.element_to_be_clickable((By.CSS_SELECTOR, '.nav-submenu.ff-montse')))\n",
    "for i in submenu.find_elements_by_tag_name('li'):\n",
    "    if i.text != \"\":\n",
    "        print(i.text)\n",
    "        print(i.find_element_by_tag_name('a').get_attribute('href'))"
   ]
  },
  {
   "cell_type": "code",
   "execution_count": null,
   "id": "95a47c54",
   "metadata": {},
   "outputs": [],
   "source": [
    "for item in containers:\n",
    "    numero = item.find_element_by_xpath('//*[@id=\"browse\"]/div[2]/div/div[3]/div[1]/div[1]')\n",
    "    nombre = numero.find_element_by_xpath('./following-sibling::a')\n",
    "    image = nombre.find_element_by_xpath('./following::div')\n",
    "    print(numero.text, nombre.text, image.get_attribute('src'))"
   ]
  },
  {
   "cell_type": "code",
   "execution_count": null,
   "id": "5a6d1699",
   "metadata": {},
   "outputs": [],
   "source": [
    "idd=WebDriverWait(driver, 20).until(EC.element_to_be_clickable((By.CSS_SELECTOR,'.numeric   researcher rank')))\n",
    "    #investigadores=WebDriverWait(driver, 20).until(EC.element_to_be_clickable((By.CSS_SELECTOR,'.researcher-browse-cell-name')))\n",
    "    #publicaciones= WebDriverWait(driver, 20).until(EC.element_to_be_clickable((By.CSS_SELECTOR,'.sortable numeric  researcher stat hidden-xs publicationTooltip')))\n",
    "    #coments_verif= WebDriverWait(driver, 20).until(EC.element_to_be_clickable((By.CSS_SELECTOR,'.sortable numeric  researcher stat hidden-xs reviewTooltip\"')))\n",
    "    #registr_editor_verif= WebDriverWait(driver, 20).until(EC.element_to_be_clickable((By.CSS_SELECTOR,'.sortable numeric  researcher editor-records hidden-xs editorTooltip')))"
   ]
  }
 ],
 "metadata": {
  "kernelspec": {
   "display_name": "Python 3 (ipykernel)",
   "language": "python",
   "name": "python3"
  },
  "language_info": {
   "codemirror_mode": {
    "name": "ipython",
    "version": 3
   },
   "file_extension": ".py",
   "mimetype": "text/x-python",
   "name": "python",
   "nbconvert_exporter": "python",
   "pygments_lexer": "ipython3",
   "version": "3.9.7"
  }
 },
 "nbformat": 4,
 "nbformat_minor": 5
}
