{
 "cells": [
  {
   "cell_type": "code",
   "execution_count": 17,
   "id": "bd1bb66e",
   "metadata": {},
   "outputs": [
    {
     "ename": "AttributeError",
     "evalue": "'str' object has no attribute 'T'",
     "output_type": "error",
     "traceback": [
      "\u001b[1;31m---------------------------------------------------------------------------\u001b[0m",
      "\u001b[1;31mAttributeError\u001b[0m                            Traceback (most recent call last)",
      "\u001b[1;32m~\\AppData\\Local\\Temp/ipykernel_15552/1845104198.py\u001b[0m in \u001b[0;36m<module>\u001b[1;34m\u001b[0m\n\u001b[0;32m     26\u001b[0m         \u001b[0ma\u001b[0m\u001b[1;33m=\u001b[0m\u001b[0mi\u001b[0m\u001b[1;33m.\u001b[0m\u001b[0mtext\u001b[0m\u001b[1;33m\u001b[0m\u001b[1;33m\u001b[0m\u001b[0m\n\u001b[0;32m     27\u001b[0m         np.savetxt(\"output.csv\",   # Archivo de salida\n\u001b[1;32m---> 28\u001b[1;33m            \u001b[0ma\u001b[0m\u001b[1;33m.\u001b[0m\u001b[0mT\u001b[0m\u001b[1;33m,\u001b[0m        \u001b[1;31m# Trasponemos los datos\u001b[0m\u001b[1;33m\u001b[0m\u001b[1;33m\u001b[0m\u001b[0m\n\u001b[0m\u001b[0;32m     29\u001b[0m            \u001b[0mfmt\u001b[0m\u001b[1;33m=\u001b[0m\u001b[1;34m\"%d\"\u001b[0m\u001b[1;33m,\u001b[0m       \u001b[1;31m# Usamos números enteros\u001b[0m\u001b[1;33m\u001b[0m\u001b[1;33m\u001b[0m\u001b[0m\n\u001b[0;32m     30\u001b[0m            delimiter=\",\")  # Para que sea un CSV de verdad\n",
      "\u001b[1;31mAttributeError\u001b[0m: 'str' object has no attribute 'T'"
     ]
    }
   ],
   "source": [
    "from selenium import webdriver\n",
    "from selenium.webdriver.common.keys import Keys\n",
    "from selenium.webdriver.common.by import By\n",
    "from selenium.webdriver.support.ui import WebDriverWait\n",
    "import pandas as pd\n",
    "import time\n",
    "from selenium.webdriver.common.by import By\n",
    "from selenium.webdriver.support import expected_conditions as EC\n",
    "from collections import defaultdict, deque\n",
    "import numpy as np\n",
    "\n",
    "driver = webdriver.Chrome('C:\\Program Files (x86)\\chromedriver.exe')\n",
    "\n",
    "driver.get('https://publons.com/researcher/?country=123&order_by=name')\n",
    "\n",
    "#lista_autores=[]\n",
    "\n",
    "#while len(lista_autores) < 250:\n",
    "\n",
    "a = (By.CSS_SELECTOR, '.table-container')\n",
    "wait = WebDriverWait(driver,30)\n",
    "df = wait.until(EC.element_to_be_clickable(a))\n",
    "df=df.find_elements_by_tag_name('span')\n",
    "for i in df:\n",
    "    if i.text != \"\":\n",
    "        a=i.text\n",
    "        datos = np.asarray(l)\n",
    "\n",
    "        np.savetxt(\"output.csv\",   # Archivo de salida\n",
    "           a.T,        # Trasponemos los datos\n",
    "           fmt=\"%d\",       # Usamos números enteros\n",
    "           delimiter=\",\")  # Para que sea un CSV de verdad\n",
    "driver.execute_script(\"window.scrollTo(0, document.body.scrollHeight)\")\n",
    "\n",
    "\n",
    "\n",
    "#user_list = list(zip(idd,investigadores,publicaciones,coments_verif,registr_editor_verif))\n",
    "\n",
    "#df = pd.DataFrame()\n",
    "#df = df.transpose(df)\n",
    "#df.to_csv(\"archivo.csv\", index=False, header=False)\n",
    "\n",
    "\n",
    "#for na in element:        \n",
    "    #id= na.find_element_by_xpath('//*[@id=\"browse\"]/div[2]/div/div[3]/div[1]/div[1]/span').text\n",
    "    #investigadores= na.find_element_by_xpath('//*[@id=\"browse\"]/div[2]/div/div[3]/div[1]/a[1]/div[1]').text\n",
    "    #publicaciones= na.find_element_by_xpath('//*[@id=\"browse\"]/div[2]/div/div[3]/div[1]/div[2]/span').text\n",
    "    #coments_verif= na.find_element_by_xpath('//*[@id=\"browse\"]/div[2]/div/div[3]/div[1]/div[3]/span').text\n",
    "    #registr_editor_verif= na.find_element_by_xpath('//*[@id=\"browse\"]/div[2]/div/div[3]/div[1]/div[4]/span').text   \n",
    "\n",
    "#print(id)\n",
    "#print(investigadores)\n",
    "#print(publicaciones)\n",
    "#print(coments_verif)\n",
    "#print(registr_editor_verif)\n",
    "\n",
    "\n",
    "\n",
    "import shutil\n",
    "source = r'D:\\TI2022\\github\\taller2022\\PUBLONS_RESEARCHERS\\archivo.csv'\n",
    "destination = r'D:\\TI2022\\github\\taller2022\\PUBLONS_RESEARCHERS\\DATA\\archivo.csv'\n",
    "\n",
    "shutil.move(source,destination)\n",
    "    \n",
    "time.sleep(5)\n",
    "\n",
    "driver.quit();\n"
   ]
  },
  {
   "cell_type": "code",
   "execution_count": null,
   "id": "802690b6",
   "metadata": {},
   "outputs": [],
   "source": []
  }
 ],
 "metadata": {
  "kernelspec": {
   "display_name": "Python 3 (ipykernel)",
   "language": "python",
   "name": "python3"
  },
  "language_info": {
   "codemirror_mode": {
    "name": "ipython",
    "version": 3
   },
   "file_extension": ".py",
   "mimetype": "text/x-python",
   "name": "python",
   "nbconvert_exporter": "python",
   "pygments_lexer": "ipython3",
   "version": "3.9.7"
  }
 },
 "nbformat": 4,
 "nbformat_minor": 5
}
