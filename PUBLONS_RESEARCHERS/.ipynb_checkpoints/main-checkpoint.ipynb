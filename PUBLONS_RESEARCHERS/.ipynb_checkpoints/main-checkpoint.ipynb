{
 "cells": [
  {
   "cell_type": "code",
   "execution_count": 21,
   "id": "1a3eb541",
   "metadata": {},
   "outputs": [
    {
     "ename": "AttributeError",
     "evalue": "'WebElement' object has no attribute 'append'",
     "output_type": "error",
     "traceback": [
      "\u001b[1;31m---------------------------------------------------------------------------\u001b[0m",
      "\u001b[1;31mAttributeError\u001b[0m                            Traceback (most recent call last)",
      "\u001b[1;32m~\\AppData\\Local\\Temp/ipykernel_21176/3681961188.py\u001b[0m in \u001b[0;36m<module>\u001b[1;34m\u001b[0m\n\u001b[0;32m     19\u001b[0m \u001b[1;31m#nombre_autores = WebDriverWait(driver, 20).until(EC.visibility_of_all_elements_located((By.XPATH, \"/html/body/div[1]/div/div[4]/div[2]/div/div[3]\")))\u001b[0m\u001b[1;33m\u001b[0m\u001b[1;33m\u001b[0m\u001b[0m\n\u001b[0;32m     20\u001b[0m \u001b[1;32mfor\u001b[0m \u001b[0mi\u001b[0m \u001b[1;32min\u001b[0m \u001b[0mdf\u001b[0m\u001b[1;33m.\u001b[0m\u001b[0mfind_elements_by_tag_name\u001b[0m\u001b[1;33m(\u001b[0m\u001b[1;34m'span'\u001b[0m\u001b[1;33m)\u001b[0m\u001b[1;33m:\u001b[0m\u001b[1;33m\u001b[0m\u001b[1;33m\u001b[0m\u001b[0m\n\u001b[1;32m---> 21\u001b[1;33m     \u001b[0mdf\u001b[0m\u001b[1;33m=\u001b[0m\u001b[0mdf\u001b[0m\u001b[1;33m.\u001b[0m\u001b[0mappend\u001b[0m\u001b[1;33m(\u001b[0m\u001b[0mdf\u001b[0m\u001b[1;33m,\u001b[0m\u001b[0mignore_index\u001b[0m\u001b[1;33m=\u001b[0m\u001b[1;32mTrue\u001b[0m\u001b[1;33m)\u001b[0m\u001b[1;33m\u001b[0m\u001b[1;33m\u001b[0m\u001b[0m\n\u001b[0m\u001b[0;32m     22\u001b[0m     \u001b[1;32mif\u001b[0m \u001b[0mi\u001b[0m\u001b[1;33m.\u001b[0m\u001b[0mtext\u001b[0m \u001b[1;33m!=\u001b[0m \u001b[1;34m\"\"\u001b[0m\u001b[1;33m:\u001b[0m\u001b[1;33m\u001b[0m\u001b[1;33m\u001b[0m\u001b[0m\n\u001b[0;32m     23\u001b[0m \u001b[1;33m\u001b[0m\u001b[0m\n",
      "\u001b[1;31mAttributeError\u001b[0m: 'WebElement' object has no attribute 'append'"
     ]
    }
   ],
   "source": [
    "from selenium import webdriver\n",
    "from selenium.webdriver.common.keys import Keys\n",
    "from selenium.webdriver.common.by import By\n",
    "from selenium.webdriver.support.ui import WebDriverWait\n",
    "import pandas as pd\n",
    "import time\n",
    "from selenium.webdriver.common.by import By\n",
    "from selenium.webdriver.support import expected_conditions as EC\n",
    "\n",
    "driver = webdriver.Chrome('C:\\Program Files (x86)\\chromedriver.exe')\n",
    "\n",
    "driver.get('https://publons.com/researcher/?country=123&order_by=name')\n",
    "\n",
    "i=[]\n",
    "\n",
    "a = (By.CSS_SELECTOR, '.browse-table-content')\n",
    "wait = WebDriverWait(driver,30)\n",
    "df = wait.until(EC.element_to_be_clickable(a))\n",
    "#nombre_autores = WebDriverWait(driver, 20).until(EC.visibility_of_all_elements_located((By.XPATH, \"/html/body/div[1]/div/div[4]/div[2]/div/div[3]\")))\n",
    "for i in df.find_elements_by_tag_name('span'):\n",
    "    df=df.append(df,ignore_index=True)\n",
    "    if i.text != \"\":\n",
    "\n",
    "        print(i.text)\n",
    "    \n",
    "#for na in element:        \n",
    "    #id= na.find_element_by_xpath('//*[@id=\"browse\"]/div[2]/div/div[3]/div[1]/div[1]/span').text\n",
    "    #investigadores= na.find_element_by_xpath('//*[@id=\"browse\"]/div[2]/div/div[3]/div[1]/a[1]/div[1]').text\n",
    "    #publicaciones= na.find_element_by_xpath('//*[@id=\"browse\"]/div[2]/div/div[3]/div[1]/div[2]/span').text\n",
    "    #coments_verif= na.find_element_by_xpath('//*[@id=\"browse\"]/div[2]/div/div[3]/div[1]/div[3]/span').text\n",
    "    #registr_editor_verif= na.find_element_by_xpath('//*[@id=\"browse\"]/div[2]/div/div[3]/div[1]/div[4]/span').text\n",
    "    \n",
    "    \n",
    "driver.execute_script(\"window.scrollTo(0, document.body.scrollHeight)\");\n",
    "\n",
    "#print(id)\n",
    "#print(investigadores)\n",
    "#print(publicaciones)\n",
    "#print(coments_verif)\n",
    "#print(registr_editor_verif)\n",
    "\n",
    "df = pd.DataFrame()\n",
    "df.to_csv(\"lista_autores_251.csv\")\n",
    "    \n",
    "#import shutil\n",
    "#source = r'D:\\TI2022\\github\\taller2022\\PUBLONS_RESEARCHERS\\lista_autores_251.csv'\n",
    "#destination = r'D:\\TI2022\\github\\taller2022\\PUBLONS_RESEARCHERS\\DATA\\lista_autores_251.csv'\n",
    "\n",
    "#shutil.move(source,destination)\n",
    "    \n",
    "time.sleep(5)\n"
   ]
  },
  {
   "cell_type": "code",
   "execution_count": 14,
   "id": "a4e3f755",
   "metadata": {},
   "outputs": [
    {
     "data": {
      "text/plain": [
       "selenium.webdriver.remote.webelement.WebElement"
      ]
     },
     "execution_count": 14,
     "metadata": {},
     "output_type": "execute_result"
    }
   ],
   "source": [
    "type(i)"
   ]
  },
  {
   "cell_type": "code",
   "execution_count": null,
   "id": "ef21da99",
   "metadata": {},
   "outputs": [],
   "source": [
    "submenu = WebDriverWait(driver, 5).until(EC.element_to_be_clickable((By.CSS_SELECTOR, '.nav-submenu.ff-montse')))\n",
    "for i in submenu.find_elements_by_tag_name('li'):\n",
    "    if i.text != \"\":\n",
    "        print(i.text)\n",
    "        print(i.find_element_by_tag_name('a').get_attribute('href'))"
   ]
  },
  {
   "cell_type": "code",
   "execution_count": null,
   "id": "95a47c54",
   "metadata": {},
   "outputs": [],
   "source": [
    "for item in containers:\n",
    "    numero = item.find_element_by_xpath('//*[@id=\"browse\"]/div[2]/div/div[3]/div[1]/div[1]')\n",
    "    nombre = numero.find_element_by_xpath('./following-sibling::a')\n",
    "    image = nombre.find_element_by_xpath('./following::div')\n",
    "    print(numero.text, nombre.text, image.get_attribute('src'))"
   ]
  },
  {
   "cell_type": "code",
   "execution_count": null,
   "id": "ef8dbaac",
   "metadata": {},
   "outputs": [],
   "source": [
    "<div class=\"container\">\n",
    "    <div class=\"name\">James</div>\n",
    "    <div>Rodriguez</div>\n",
    "    <div class=\"image\">\n",
    "        <div><img src=\"https://example.com/1.jpg\"></div>\n",
    "    </div>\n",
    "</div>\n",
    "<div class=\"container\">\n",
    "    <div class=\"name\">Harry</div>\n",
    "    <div>Kane</div>\n",
    "    <div class=\"image\">\n",
    "        <div><img src=\"https://example.com/2.jpg\"></div>\n",
    "    </div>\n",
    "</div>"
   ]
  }
 ],
 "metadata": {
  "kernelspec": {
   "display_name": "Python 3 (ipykernel)",
   "language": "python",
   "name": "python3"
  },
  "language_info": {
   "codemirror_mode": {
    "name": "ipython",
    "version": 3
   },
   "file_extension": ".py",
   "mimetype": "text/x-python",
   "name": "python",
   "nbconvert_exporter": "python",
   "pygments_lexer": "ipython3",
   "version": "3.9.7"
  }
 },
 "nbformat": 4,
 "nbformat_minor": 5
}
